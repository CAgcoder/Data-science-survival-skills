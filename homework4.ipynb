{
 "cells": [
  {
   "cell_type": "code",
   "execution_count": 1,
   "id": "b4e64b5e",
   "metadata": {},
   "outputs": [
    {
     "name": "stdout",
     "output_type": "stream",
     "text": [
      "Defaulting to user installation because normal site-packages is not writeable\n",
      "Requirement already satisfied: line_profiler in c:\\users\\54269\\appdata\\roaming\\python\\python39\\site-packages (4.0.2)\n",
      "Note: you may need to restart the kernel to use updated packages.\n"
     ]
    }
   ],
   "source": [
    "pip install line_profiler"
   ]
  },
  {
   "cell_type": "code",
   "execution_count": 2,
   "id": "53a8aeb0",
   "metadata": {},
   "outputs": [],
   "source": [
    "%load_ext line_profiler"
   ]
  },
  {
   "cell_type": "code",
   "execution_count": 3,
   "id": "5b2476d6",
   "metadata": {},
   "outputs": [],
   "source": [
    "from skimage import data, color\n",
    "from skimage.transform import resize\n",
    "from PIL import Image"
   ]
  },
  {
   "cell_type": "code",
   "execution_count": 4,
   "id": "dbcfe395",
   "metadata": {},
   "outputs": [],
   "source": [
    "import numpy as np\n",
    "import matplotlib.pyplot as plt\n",
    "import urllib\n",
    "import os\n",
    "import time"
   ]
  },
  {
   "cell_type": "code",
   "execution_count": 5,
   "id": "cbef0833",
   "metadata": {},
   "outputs": [],
   "source": [
    "imgs = np.uint8(data.lfw_subset()*255)"
   ]
  },
  {
   "cell_type": "code",
   "execution_count": 6,
   "id": "219b426f",
   "metadata": {},
   "outputs": [],
   "source": [
    "def res_skimage(imgs):\n",
    "    new_size = (imgs[1].shape[0]//2, imgs[1].shape[1]//2)\n",
    "    res_im = []\n",
    "    for im in imgs:\n",
    "        image_resized = resize(im, new_size, anti_aliasing=True)\n",
    "        res_im.append(image_resized)\n",
    "    return np.asarray(res_im)"
   ]
  },
  {
   "cell_type": "code",
   "execution_count": 10,
   "id": "5ba034ca",
   "metadata": {},
   "outputs": [],
   "source": [
    "%lprun -f res_skimage res_skimage(imgs)"
   ]
  },
  {
   "cell_type": "code",
   "execution_count": 11,
   "id": "e8e74ff9",
   "metadata": {},
   "outputs": [],
   "source": [
    "def res_PILimage(imgs):\n",
    "    new_size = (imgs[1].shape[0]//2, imgs[1].shape[1]//2)\n",
    "    res_im = []\n",
    "    for im in imgs:\n",
    "        new_im = Image.fromarray(im)  \n",
    "        new_im = np.asarray(new_im.resize(new_size))\n",
    "        res_im.append(new_im)\n",
    "    return np.asarray(res_im)"
   ]
  },
  {
   "cell_type": "code",
   "execution_count": 12,
   "id": "438a3cb8",
   "metadata": {},
   "outputs": [],
   "source": [
    "%lprun -f res_PILimage res_PILimage(imgs)"
   ]
  },
  {
   "cell_type": "code",
   "execution_count": 56,
   "id": "18c974d5",
   "metadata": {},
   "outputs": [],
   "source": [
    "def original_img(o1,re1,re2):\n",
    "    fig,(ax1,ax2,ax3) = plt.subplots(1,3)\n",
    "    ax1.imshow(o1[0],cmap = 'gray')\n",
    "    ax1.set_title('Original')\n",
    "\n",
    "    ax2.set_title('Resized Skimage')\n",
    "    ax2.imshow(re1[0],cmap = 'gray')\n",
    "    ax3.set_title('Resized PILimage')\n",
    "    ax3.imshow(re1[0],cmap = 'gray')\n",
    "    plt.show()"
   ]
  },
  {
   "cell_type": "code",
   "execution_count": 57,
   "id": "b69568c4",
   "metadata": {},
   "outputs": [
    {
     "data": {
      "image/png": "[encoded data removed]",
      "text/plain": [
       "<Figure size 640x480 with 3 Axes>"
      ]
     },
     "metadata": {},
     "output_type": "display_data"
    }
   ],
   "source": [
    "re1 = res_skimage(imgs)\n",
    "re2 = res_skimage1(imgs)\n",
    "original_img(imgs,re1,re2)"
   ]
  },
  {
   "cell_type": "code",
   "execution_count": 7,
   "id": "9fd7c89a",
   "metadata": {},
   "outputs": [],
   "source": [
    "import threading\n",
    "import multiprocessing"
   ]
  },
  {
   "cell_type": "code",
   "execution_count": null,
   "id": "9edf8eac",
   "metadata": {},
   "outputs": [],
   "source": []
  },
  {
   "cell_type": "code",
   "execution_count": 8,
   "id": "2d6c3e5d",
   "metadata": {},
   "outputs": [],
   "source": [
    "def approximate_pi(n):\n",
    "    pi_2 = 1\n",
    "    nom, den = 2.0, 1.0\n",
    "    for i in range(n):\n",
    "        pi_2 *= nom / den\n",
    "        if i % 2:\n",
    "            nom += 2\n",
    "        else:\n",
    "            den += 2 \n",
    "    return 2*pi_2"
   ]
  },
  {
   "cell_type": "code",
   "execution_count": 9,
   "id": "0ed22869",
   "metadata": {},
   "outputs": [],
   "source": [
    "nums = [1822725,\n",
    "        22059421,\n",
    "        32374695,\n",
    "        88754320,\n",
    "        9716266]"
   ]
  },
  {
   "cell_type": "code",
   "execution_count": 10,
   "id": "7f5dc477",
   "metadata": {},
   "outputs": [
    {
     "name": "stdout",
     "output_type": "stream",
     "text": [
      "13.8 s ± 151 ms per loop (mean ± std. dev. of 7 runs, 1 loop each)\n"
     ]
    }
   ],
   "source": [
    "##Task 2\n",
    "# multithreading\n",
    "\n",
    "%%timeit\n",
    "\n",
    "threads = []\n",
    "for i in nums:\n",
    "    thread = threading.Thread(target = approximate_pi,args = (i,))\n",
    "    thread.start()\n",
    "    threads.append(thread)\n",
    "for thread in threads:\n",
    "    thread.join()\n",
    "    "
   ]
  },
  {
   "cell_type": "code",
   "execution_count": 34,
   "id": "1e5a4cf6",
   "metadata": {},
   "outputs": [
    {
     "name": "stdout",
     "output_type": "stream",
     "text": [
      "71.1 ms ± 1.11 ms per loop (mean ± std. dev. of 7 runs, 10 loops each)\n"
     ]
    }
   ],
   "source": [
    "# multiprocessing\n",
    "\n",
    "%%timeit\n",
    "\n",
    "processes = []\n",
    "for i in nums:\n",
    "    process = multiprocessing.Process(target = approximate_pi,args = (i,))\n",
    "    process.start()\n",
    "    processes.append(process)\n",
    "for process in processes:\n",
    "    process.join()\n",
    "    "
   ]
  },
  {
   "cell_type": "code",
   "execution_count": 12,
   "id": "16244230",
   "metadata": {},
   "outputs": [],
   "source": [
    "def load_array(filename):\n",
    "    return np.load(filename)"
   ]
  },
  {
   "cell_type": "code",
   "execution_count": 25,
   "id": "c6cbeed8",
   "metadata": {},
   "outputs": [
    {
     "data": {
      "text/plain": [
       "['D:/Fau/2WS/DSSS/home work/homework_10/numpy_files/numpy_file_0.npy',\n",
       " 'D:/Fau/2WS/DSSS/home work/homework_10/numpy_files/numpy_file_1.npy',\n",
       " 'D:/Fau/2WS/DSSS/home work/homework_10/numpy_files/numpy_file_2.npy',\n",
       " 'D:/Fau/2WS/DSSS/home work/homework_10/numpy_files/numpy_file_3.npy',\n",
       " 'D:/Fau/2WS/DSSS/home work/homework_10/numpy_files/numpy_file_4.npy',\n",
       " 'D:/Fau/2WS/DSSS/home work/homework_10/numpy_files/numpy_file_5.npy',\n",
       " 'D:/Fau/2WS/DSSS/home work/homework_10/numpy_files/numpy_file_6.npy',\n",
       " 'D:/Fau/2WS/DSSS/home work/homework_10/numpy_files/numpy_file_7.npy',\n",
       " 'D:/Fau/2WS/DSSS/home work/homework_10/numpy_files/numpy_file_8.npy',\n",
       " 'D:/Fau/2WS/DSSS/home work/homework_10/numpy_files/numpy_file_9.npy']"
      ]
     },
     "execution_count": 25,
     "metadata": {},
     "output_type": "execute_result"
    }
   ],
   "source": [
    "filename = []\n",
    "for i in range(0,10):\n",
    "    file_name = 'D:/Fau/2WS/DSSS/home work/homework_10/numpy_files/numpy_file_{number}.npy'.format(number = i)\n",
    "    filename.append(file_name)\n",
    "filename"
   ]
  },
  {
   "cell_type": "code",
   "execution_count": 30,
   "id": "fb58b9f4",
   "metadata": {},
   "outputs": [
    {
     "name": "stdout",
     "output_type": "stream",
     "text": [
      "713 ms ± 35.3 ms per loop (mean ± std. dev. of 7 runs, 1 loop each)\n"
     ]
    }
   ],
   "source": [
    "##Task 3\n",
    "# multithreading\n",
    "\n",
    "%%timeit\n",
    "\n",
    "threads = []\n",
    "for i in filename:\n",
    "    thread = threading.Thread(target = load_array,args = (i,))\n",
    "    thread.start()\n",
    "    threads.append(thread)\n",
    "for thread in threads:\n",
    "    thread.join()\n"
   ]
  },
  {
   "cell_type": "code",
   "execution_count": 36,
   "id": "9caaf5c4",
   "metadata": {},
   "outputs": [
    {
     "name": "stdout",
     "output_type": "stream",
     "text": [
      "111 ms ± 2.38 ms per loop (mean ± std. dev. of 7 runs, 10 loops each)\n"
     ]
    }
   ],
   "source": [
    "# multiprocessing\n",
    "\n",
    "%%timeit\n",
    "\n",
    "processes = []\n",
    "for i in filename:\n",
    "    process = multiprocessing.Process(target = load_array,args = (i,))\n",
    "    process.start()\n",
    "    processes.append(process)\n",
    "for process in processes:\n",
    "    process.join()\n",
    "    "
   ]
  }
 ],
 "metadata": {
  "kernelspec": {
   "display_name": "myvenv",
   "language": "python",
   "name": "myvenv"
  },
  "language_info": {
   "codemirror_mode": {
    "name": "ipython",
    "version": 3
   },
   "file_extension": ".py",
   "mimetype": "text/x-python",
   "name": "python",
   "nbconvert_exporter": "python",
   "pygments_lexer": "ipython3",
   "version": "3.9.13"
  }
 },
 "nbformat": 4,
 "nbformat_minor": 5
}
